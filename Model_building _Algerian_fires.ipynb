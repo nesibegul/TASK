{
 "cells": [
  {
   "cell_type": "code",
   "execution_count": 3,
   "id": "85a9cfdb",
   "metadata": {},
   "outputs": [],
   "source": [
    "import pandas as pd\n",
    "import numpy as np\n",
    "import seaborn as sns\n",
    "import matplotlib.pyplot as plt\n",
    "%matplotlib inline\n",
    "import missingno as msno\n",
    "import warnings\n",
    "warnings.filterwarnings('ignore')\n",
    "pd.set_option('display.max_columns', None)"
   ]
  },
  {
   "cell_type": "code",
   "execution_count": 2,
   "id": "11eca84e",
   "metadata": {},
   "outputs": [],
   "source": [
    "data = pd.read_csv('df_final_with10.csv')"
   ]
  },
  {
   "cell_type": "code",
   "execution_count": 7,
   "id": "2e6cb59d",
   "metadata": {},
   "outputs": [],
   "source": [
    "data.drop('Unnamed: 0', axis = 1, inplace = True)"
   ]
  },
  {
   "cell_type": "code",
   "execution_count": 28,
   "id": "0c6e7f3f",
   "metadata": {},
   "outputs": [
    {
     "data": {
      "text/html": [
       "<div>\n",
       "<style scoped>\n",
       "    .dataframe tbody tr th:only-of-type {\n",
       "        vertical-align: middle;\n",
       "    }\n",
       "\n",
       "    .dataframe tbody tr th {\n",
       "        vertical-align: top;\n",
       "    }\n",
       "\n",
       "    .dataframe thead th {\n",
       "        text-align: right;\n",
       "    }\n",
       "</style>\n",
       "<table border=\"1\" class=\"dataframe\">\n",
       "  <thead>\n",
       "    <tr style=\"text-align: right;\">\n",
       "      <th></th>\n",
       "      <th>Day</th>\n",
       "      <th>Month</th>\n",
       "      <th>Humidity</th>\n",
       "      <th>Wind</th>\n",
       "      <th>Rain</th>\n",
       "      <th>DMC</th>\n",
       "      <th>DC</th>\n",
       "      <th>Spread</th>\n",
       "      <th>Region</th>\n",
       "      <th>Classes</th>\n",
       "    </tr>\n",
       "  </thead>\n",
       "  <tbody>\n",
       "    <tr>\n",
       "      <th>0</th>\n",
       "      <td>27</td>\n",
       "      <td>9</td>\n",
       "      <td>87</td>\n",
       "      <td>15</td>\n",
       "      <td>4.4</td>\n",
       "      <td>6.5</td>\n",
       "      <td>8.0</td>\n",
       "      <td>0.1</td>\n",
       "      <td>0</td>\n",
       "      <td>0</td>\n",
       "    </tr>\n",
       "    <tr>\n",
       "      <th>1</th>\n",
       "      <td>13</td>\n",
       "      <td>9</td>\n",
       "      <td>86</td>\n",
       "      <td>21</td>\n",
       "      <td>4.6</td>\n",
       "      <td>1.3</td>\n",
       "      <td>7.5</td>\n",
       "      <td>0.1</td>\n",
       "      <td>1</td>\n",
       "      <td>0</td>\n",
       "    </tr>\n",
       "    <tr>\n",
       "      <th>2</th>\n",
       "      <td>1</td>\n",
       "      <td>9</td>\n",
       "      <td>86</td>\n",
       "      <td>16</td>\n",
       "      <td>0.0</td>\n",
       "      <td>0.9</td>\n",
       "      <td>8.2</td>\n",
       "      <td>0.1</td>\n",
       "      <td>0</td>\n",
       "      <td>0</td>\n",
       "    </tr>\n",
       "    <tr>\n",
       "      <th>3</th>\n",
       "      <td>20</td>\n",
       "      <td>6</td>\n",
       "      <td>80</td>\n",
       "      <td>16</td>\n",
       "      <td>0.4</td>\n",
       "      <td>3.4</td>\n",
       "      <td>27.1</td>\n",
       "      <td>0.9</td>\n",
       "      <td>1</td>\n",
       "      <td>0</td>\n",
       "    </tr>\n",
       "    <tr>\n",
       "      <th>4</th>\n",
       "      <td>14</td>\n",
       "      <td>6</td>\n",
       "      <td>79</td>\n",
       "      <td>16</td>\n",
       "      <td>0.7</td>\n",
       "      <td>6.4</td>\n",
       "      <td>7.3</td>\n",
       "      <td>0.5</td>\n",
       "      <td>0</td>\n",
       "      <td>0</td>\n",
       "    </tr>\n",
       "    <tr>\n",
       "      <th>...</th>\n",
       "      <td>...</td>\n",
       "      <td>...</td>\n",
       "      <td>...</td>\n",
       "      <td>...</td>\n",
       "      <td>...</td>\n",
       "      <td>...</td>\n",
       "      <td>...</td>\n",
       "      <td>...</td>\n",
       "      <td>...</td>\n",
       "      <td>...</td>\n",
       "    </tr>\n",
       "    <tr>\n",
       "      <th>270</th>\n",
       "      <td>19</td>\n",
       "      <td>9</td>\n",
       "      <td>41</td>\n",
       "      <td>8</td>\n",
       "      <td>0.1</td>\n",
       "      <td>24.9</td>\n",
       "      <td>86.0</td>\n",
       "      <td>2.7</td>\n",
       "      <td>0</td>\n",
       "      <td>1</td>\n",
       "    </tr>\n",
       "    <tr>\n",
       "      <th>271</th>\n",
       "      <td>21</td>\n",
       "      <td>9</td>\n",
       "      <td>34</td>\n",
       "      <td>17</td>\n",
       "      <td>0.0</td>\n",
       "      <td>23.6</td>\n",
       "      <td>97.3</td>\n",
       "      <td>13.8</td>\n",
       "      <td>0</td>\n",
       "      <td>1</td>\n",
       "    </tr>\n",
       "    <tr>\n",
       "      <th>272</th>\n",
       "      <td>22</td>\n",
       "      <td>9</td>\n",
       "      <td>64</td>\n",
       "      <td>13</td>\n",
       "      <td>0.0</td>\n",
       "      <td>26.1</td>\n",
       "      <td>106.3</td>\n",
       "      <td>7.1</td>\n",
       "      <td>0</td>\n",
       "      <td>1</td>\n",
       "    </tr>\n",
       "    <tr>\n",
       "      <th>273</th>\n",
       "      <td>23</td>\n",
       "      <td>9</td>\n",
       "      <td>56</td>\n",
       "      <td>14</td>\n",
       "      <td>0.0</td>\n",
       "      <td>29.4</td>\n",
       "      <td>115.6</td>\n",
       "      <td>7.5</td>\n",
       "      <td>0</td>\n",
       "      <td>1</td>\n",
       "    </tr>\n",
       "    <tr>\n",
       "      <th>274</th>\n",
       "      <td>26</td>\n",
       "      <td>9</td>\n",
       "      <td>65</td>\n",
       "      <td>14</td>\n",
       "      <td>0.0</td>\n",
       "      <td>16.0</td>\n",
       "      <td>44.5</td>\n",
       "      <td>4.5</td>\n",
       "      <td>0</td>\n",
       "      <td>1</td>\n",
       "    </tr>\n",
       "  </tbody>\n",
       "</table>\n",
       "<p>275 rows × 10 columns</p>\n",
       "</div>"
      ],
      "text/plain": [
       "     Day  Month  Humidity  Wind  Rain   DMC     DC  Spread  Region  Classes\n",
       "0     27      9        87    15   4.4   6.5    8.0     0.1       0        0\n",
       "1     13      9        86    21   4.6   1.3    7.5     0.1       1        0\n",
       "2      1      9        86    16   0.0   0.9    8.2     0.1       0        0\n",
       "3     20      6        80    16   0.4   3.4   27.1     0.9       1        0\n",
       "4     14      6        79    16   0.7   6.4    7.3     0.5       0        0\n",
       "..   ...    ...       ...   ...   ...   ...    ...     ...     ...      ...\n",
       "270   19      9        41     8   0.1  24.9   86.0     2.7       0        1\n",
       "271   21      9        34    17   0.0  23.6   97.3    13.8       0        1\n",
       "272   22      9        64    13   0.0  26.1  106.3     7.1       0        1\n",
       "273   23      9        56    14   0.0  29.4  115.6     7.5       0        1\n",
       "274   26      9        65    14   0.0  16.0   44.5     4.5       0        1\n",
       "\n",
       "[275 rows x 10 columns]"
      ]
     },
     "execution_count": 28,
     "metadata": {},
     "output_type": "execute_result"
    }
   ],
   "source": [
    "data"
   ]
  },
  {
   "cell_type": "code",
   "execution_count": 18,
   "id": "92165b21",
   "metadata": {},
   "outputs": [],
   "source": [
    "X_columns  = ['Humidity', 'Wind', 'Rain', 'DMC', 'DC', 'Spread']\n",
    "X_scale = data[X_columns]"
   ]
  },
  {
   "cell_type": "code",
   "execution_count": 19,
   "id": "145109bb",
   "metadata": {},
   "outputs": [],
   "source": [
    "#scaling data\n",
    "df = data.copy()\n",
    "from sklearn.preprocessing import StandardScaler\n",
    "sc_X = StandardScaler()\n",
    "\n",
    "\n",
    "X_part = pd.DataFrame(sc_X.fit_transform(X_scale), columns = X_columns)\n"
   ]
  },
  {
   "cell_type": "code",
   "execution_count": 20,
   "id": "702d499b",
   "metadata": {},
   "outputs": [
    {
     "data": {
      "text/html": [
       "<div>\n",
       "<style scoped>\n",
       "    .dataframe tbody tr th:only-of-type {\n",
       "        vertical-align: middle;\n",
       "    }\n",
       "\n",
       "    .dataframe tbody tr th {\n",
       "        vertical-align: top;\n",
       "    }\n",
       "\n",
       "    .dataframe thead th {\n",
       "        text-align: right;\n",
       "    }\n",
       "</style>\n",
       "<table border=\"1\" class=\"dataframe\">\n",
       "  <thead>\n",
       "    <tr style=\"text-align: right;\">\n",
       "      <th></th>\n",
       "      <th>Humidity</th>\n",
       "      <th>Wind</th>\n",
       "      <th>Rain</th>\n",
       "      <th>DMC</th>\n",
       "      <th>DC</th>\n",
       "      <th>Spread</th>\n",
       "    </tr>\n",
       "  </thead>\n",
       "  <tbody>\n",
       "    <tr>\n",
       "      <th>0</th>\n",
       "      <td>1.524173</td>\n",
       "      <td>-0.169757</td>\n",
       "      <td>1.645673</td>\n",
       "      <td>-0.585940</td>\n",
       "      <td>-0.789306</td>\n",
       "      <td>-1.025506</td>\n",
       "    </tr>\n",
       "    <tr>\n",
       "      <th>1</th>\n",
       "      <td>1.459038</td>\n",
       "      <td>1.984852</td>\n",
       "      <td>1.738773</td>\n",
       "      <td>-1.025803</td>\n",
       "      <td>-0.799935</td>\n",
       "      <td>-1.025506</td>\n",
       "    </tr>\n",
       "    <tr>\n",
       "      <th>2</th>\n",
       "      <td>1.459038</td>\n",
       "      <td>0.189344</td>\n",
       "      <td>-0.402531</td>\n",
       "      <td>-1.059638</td>\n",
       "      <td>-0.785054</td>\n",
       "      <td>-1.025506</td>\n",
       "    </tr>\n",
       "    <tr>\n",
       "      <th>3</th>\n",
       "      <td>1.068224</td>\n",
       "      <td>0.189344</td>\n",
       "      <td>-0.216331</td>\n",
       "      <td>-0.848166</td>\n",
       "      <td>-0.383266</td>\n",
       "      <td>-0.830138</td>\n",
       "    </tr>\n",
       "    <tr>\n",
       "      <th>4</th>\n",
       "      <td>1.003089</td>\n",
       "      <td>0.189344</td>\n",
       "      <td>-0.076681</td>\n",
       "      <td>-0.594399</td>\n",
       "      <td>-0.804187</td>\n",
       "      <td>-0.927822</td>\n",
       "    </tr>\n",
       "  </tbody>\n",
       "</table>\n",
       "</div>"
      ],
      "text/plain": [
       "   Humidity      Wind      Rain       DMC        DC    Spread\n",
       "0  1.524173 -0.169757  1.645673 -0.585940 -0.789306 -1.025506\n",
       "1  1.459038  1.984852  1.738773 -1.025803 -0.799935 -1.025506\n",
       "2  1.459038  0.189344 -0.402531 -1.059638 -0.785054 -1.025506\n",
       "3  1.068224  0.189344 -0.216331 -0.848166 -0.383266 -0.830138\n",
       "4  1.003089  0.189344 -0.076681 -0.594399 -0.804187 -0.927822"
      ]
     },
     "execution_count": 20,
     "metadata": {},
     "output_type": "execute_result"
    }
   ],
   "source": [
    "X_part.head()"
   ]
  },
  {
   "cell_type": "code",
   "execution_count": 22,
   "id": "606661a9",
   "metadata": {},
   "outputs": [],
   "source": [
    "df = data.copy()\n",
    "df.drop(X_columns,axis = 1, inplace = True)"
   ]
  },
  {
   "cell_type": "code",
   "execution_count": 25,
   "id": "15872be3",
   "metadata": {},
   "outputs": [],
   "source": [
    "df_new = df.join(X_part)"
   ]
  },
  {
   "cell_type": "code",
   "execution_count": 26,
   "id": "9b08ed0b",
   "metadata": {},
   "outputs": [],
   "source": [
    "col_order = data.columns\n",
    "df_new = df_new[col_order]"
   ]
  },
  {
   "cell_type": "code",
   "execution_count": 27,
   "id": "e53b7a2b",
   "metadata": {},
   "outputs": [
    {
     "data": {
      "text/html": [
       "<div>\n",
       "<style scoped>\n",
       "    .dataframe tbody tr th:only-of-type {\n",
       "        vertical-align: middle;\n",
       "    }\n",
       "\n",
       "    .dataframe tbody tr th {\n",
       "        vertical-align: top;\n",
       "    }\n",
       "\n",
       "    .dataframe thead th {\n",
       "        text-align: right;\n",
       "    }\n",
       "</style>\n",
       "<table border=\"1\" class=\"dataframe\">\n",
       "  <thead>\n",
       "    <tr style=\"text-align: right;\">\n",
       "      <th></th>\n",
       "      <th>Day</th>\n",
       "      <th>Month</th>\n",
       "      <th>Humidity</th>\n",
       "      <th>Wind</th>\n",
       "      <th>Rain</th>\n",
       "      <th>DMC</th>\n",
       "      <th>DC</th>\n",
       "      <th>Spread</th>\n",
       "      <th>Region</th>\n",
       "      <th>Classes</th>\n",
       "    </tr>\n",
       "  </thead>\n",
       "  <tbody>\n",
       "    <tr>\n",
       "      <th>0</th>\n",
       "      <td>27</td>\n",
       "      <td>9</td>\n",
       "      <td>1.524173</td>\n",
       "      <td>-0.169757</td>\n",
       "      <td>1.645673</td>\n",
       "      <td>-0.585940</td>\n",
       "      <td>-0.789306</td>\n",
       "      <td>-1.025506</td>\n",
       "      <td>0</td>\n",
       "      <td>0</td>\n",
       "    </tr>\n",
       "    <tr>\n",
       "      <th>1</th>\n",
       "      <td>13</td>\n",
       "      <td>9</td>\n",
       "      <td>1.459038</td>\n",
       "      <td>1.984852</td>\n",
       "      <td>1.738773</td>\n",
       "      <td>-1.025803</td>\n",
       "      <td>-0.799935</td>\n",
       "      <td>-1.025506</td>\n",
       "      <td>1</td>\n",
       "      <td>0</td>\n",
       "    </tr>\n",
       "    <tr>\n",
       "      <th>2</th>\n",
       "      <td>1</td>\n",
       "      <td>9</td>\n",
       "      <td>1.459038</td>\n",
       "      <td>0.189344</td>\n",
       "      <td>-0.402531</td>\n",
       "      <td>-1.059638</td>\n",
       "      <td>-0.785054</td>\n",
       "      <td>-1.025506</td>\n",
       "      <td>0</td>\n",
       "      <td>0</td>\n",
       "    </tr>\n",
       "    <tr>\n",
       "      <th>3</th>\n",
       "      <td>20</td>\n",
       "      <td>6</td>\n",
       "      <td>1.068224</td>\n",
       "      <td>0.189344</td>\n",
       "      <td>-0.216331</td>\n",
       "      <td>-0.848166</td>\n",
       "      <td>-0.383266</td>\n",
       "      <td>-0.830138</td>\n",
       "      <td>1</td>\n",
       "      <td>0</td>\n",
       "    </tr>\n",
       "    <tr>\n",
       "      <th>4</th>\n",
       "      <td>14</td>\n",
       "      <td>6</td>\n",
       "      <td>1.003089</td>\n",
       "      <td>0.189344</td>\n",
       "      <td>-0.076681</td>\n",
       "      <td>-0.594399</td>\n",
       "      <td>-0.804187</td>\n",
       "      <td>-0.927822</td>\n",
       "      <td>0</td>\n",
       "      <td>0</td>\n",
       "    </tr>\n",
       "    <tr>\n",
       "      <th>...</th>\n",
       "      <td>...</td>\n",
       "      <td>...</td>\n",
       "      <td>...</td>\n",
       "      <td>...</td>\n",
       "      <td>...</td>\n",
       "      <td>...</td>\n",
       "      <td>...</td>\n",
       "      <td>...</td>\n",
       "      <td>...</td>\n",
       "      <td>...</td>\n",
       "    </tr>\n",
       "    <tr>\n",
       "      <th>270</th>\n",
       "      <td>19</td>\n",
       "      <td>9</td>\n",
       "      <td>-1.472065</td>\n",
       "      <td>-2.683467</td>\n",
       "      <td>-0.355981</td>\n",
       "      <td>0.970497</td>\n",
       "      <td>0.868867</td>\n",
       "      <td>-0.390559</td>\n",
       "      <td>0</td>\n",
       "      <td>1</td>\n",
       "    </tr>\n",
       "    <tr>\n",
       "      <th>271</th>\n",
       "      <td>21</td>\n",
       "      <td>9</td>\n",
       "      <td>-1.928014</td>\n",
       "      <td>0.548446</td>\n",
       "      <td>-0.402531</td>\n",
       "      <td>0.860531</td>\n",
       "      <td>1.109090</td>\n",
       "      <td>2.320176</td>\n",
       "      <td>0</td>\n",
       "      <td>1</td>\n",
       "    </tr>\n",
       "    <tr>\n",
       "      <th>272</th>\n",
       "      <td>22</td>\n",
       "      <td>9</td>\n",
       "      <td>0.026054</td>\n",
       "      <td>-0.887960</td>\n",
       "      <td>-0.402531</td>\n",
       "      <td>1.072004</td>\n",
       "      <td>1.300417</td>\n",
       "      <td>0.683967</td>\n",
       "      <td>0</td>\n",
       "      <td>1</td>\n",
       "    </tr>\n",
       "    <tr>\n",
       "      <th>273</th>\n",
       "      <td>23</td>\n",
       "      <td>9</td>\n",
       "      <td>-0.495031</td>\n",
       "      <td>-0.528859</td>\n",
       "      <td>-0.402531</td>\n",
       "      <td>1.351147</td>\n",
       "      <td>1.498123</td>\n",
       "      <td>0.781651</td>\n",
       "      <td>0</td>\n",
       "      <td>1</td>\n",
       "    </tr>\n",
       "    <tr>\n",
       "      <th>274</th>\n",
       "      <td>26</td>\n",
       "      <td>9</td>\n",
       "      <td>0.091190</td>\n",
       "      <td>-0.528859</td>\n",
       "      <td>-0.402531</td>\n",
       "      <td>0.217655</td>\n",
       "      <td>-0.013366</td>\n",
       "      <td>0.049020</td>\n",
       "      <td>0</td>\n",
       "      <td>1</td>\n",
       "    </tr>\n",
       "  </tbody>\n",
       "</table>\n",
       "<p>275 rows × 10 columns</p>\n",
       "</div>"
      ],
      "text/plain": [
       "     Day  Month  Humidity      Wind      Rain       DMC        DC    Spread  \\\n",
       "0     27      9  1.524173 -0.169757  1.645673 -0.585940 -0.789306 -1.025506   \n",
       "1     13      9  1.459038  1.984852  1.738773 -1.025803 -0.799935 -1.025506   \n",
       "2      1      9  1.459038  0.189344 -0.402531 -1.059638 -0.785054 -1.025506   \n",
       "3     20      6  1.068224  0.189344 -0.216331 -0.848166 -0.383266 -0.830138   \n",
       "4     14      6  1.003089  0.189344 -0.076681 -0.594399 -0.804187 -0.927822   \n",
       "..   ...    ...       ...       ...       ...       ...       ...       ...   \n",
       "270   19      9 -1.472065 -2.683467 -0.355981  0.970497  0.868867 -0.390559   \n",
       "271   21      9 -1.928014  0.548446 -0.402531  0.860531  1.109090  2.320176   \n",
       "272   22      9  0.026054 -0.887960 -0.402531  1.072004  1.300417  0.683967   \n",
       "273   23      9 -0.495031 -0.528859 -0.402531  1.351147  1.498123  0.781651   \n",
       "274   26      9  0.091190 -0.528859 -0.402531  0.217655 -0.013366  0.049020   \n",
       "\n",
       "     Region  Classes  \n",
       "0         0        0  \n",
       "1         1        0  \n",
       "2         0        0  \n",
       "3         1        0  \n",
       "4         0        0  \n",
       "..      ...      ...  \n",
       "270       0        1  \n",
       "271       0        1  \n",
       "272       0        1  \n",
       "273       0        1  \n",
       "274       0        1  \n",
       "\n",
       "[275 rows x 10 columns]"
      ]
     },
     "execution_count": 27,
     "metadata": {},
     "output_type": "execute_result"
    }
   ],
   "source": [
    "df_new"
   ]
  },
  {
   "cell_type": "code",
   "execution_count": 29,
   "id": "90cabd2b",
   "metadata": {},
   "outputs": [],
   "source": [
    "X = df_new.drop('Classes', axis = 1)\n",
    "y = df_new['Classes']"
   ]
  },
  {
   "cell_type": "code",
   "execution_count": 30,
   "id": "a68eddab",
   "metadata": {},
   "outputs": [],
   "source": [
    "#importing train_test_split\n",
    "from sklearn.model_selection import train_test_split\n",
    "X_train,X_test,y_train,y_test = train_test_split(X,y,test_size=1/3,random_state=42, stratify=y)"
   ]
  },
  {
   "cell_type": "code",
   "execution_count": 31,
   "id": "fe273606",
   "metadata": {},
   "outputs": [
    {
     "data": {
      "text/plain": [
       "GridSearchCV(cv=5, estimator=KNeighborsClassifier(),\n",
       "             param_grid={'n_neighbors': array([ 1,  2,  3,  4,  5,  6,  7,  8,  9, 10, 11, 12, 13, 14, 15, 16, 17,\n",
       "       18, 19, 20, 21, 22, 23, 24, 25, 26, 27, 28, 29, 30, 31, 32, 33, 34,\n",
       "       35, 36, 37, 38, 39, 40, 41, 42, 43, 44, 45, 46, 47, 48, 49])})"
      ]
     },
     "execution_count": 31,
     "metadata": {},
     "output_type": "execute_result"
    }
   ],
   "source": [
    "from sklearn.neighbors import KNeighborsClassifier\n",
    "#import GridSearchCV\n",
    "from sklearn.model_selection import GridSearchCV\n",
    "#In case of classifier like knn the parameter to be tuned is n_neighbors\n",
    "param_grid = {'n_neighbors':np.arange(1,50)}\n",
    "knn = KNeighborsClassifier()\n",
    "knn_cv= GridSearchCV(knn,param_grid,cv=5)\n",
    "knn_cv.fit(X_train,y_train)\n"
   ]
  },
  {
   "cell_type": "code",
   "execution_count": 32,
   "id": "5188dfb9",
   "metadata": {},
   "outputs": [
    {
     "data": {
      "text/plain": [
       "array([1, 1, 1, 0, 1, 1, 1, 0, 0, 1, 1, 0, 1, 0, 0, 0, 0, 1, 0, 0, 0, 0,\n",
       "       0, 0, 0, 1, 0, 0, 1, 0, 1, 0, 0, 0, 0, 1, 0, 0, 1, 0, 1, 0, 0, 1,\n",
       "       0, 0, 1, 0, 0, 0, 1, 0, 1, 0, 1, 0, 0, 0, 1, 0, 1, 0, 0, 1, 0, 0,\n",
       "       1, 0, 1, 0, 0, 0, 0, 1, 1, 1, 1, 0, 1, 1, 0, 0, 1, 1, 0, 0, 1, 1,\n",
       "       0, 1, 1, 1], dtype=int64)"
      ]
     },
     "execution_count": 32,
     "metadata": {},
     "output_type": "execute_result"
    }
   ],
   "source": [
    "knn_cv.predict(X_test)"
   ]
  },
  {
   "cell_type": "code",
   "execution_count": 33,
   "id": "f145c160",
   "metadata": {},
   "outputs": [
    {
     "name": "stdout",
     "output_type": "stream",
     "text": [
      "Best Score:0.8689189189189189\n",
      "Best Parameters: {'n_neighbors': 1}\n"
     ]
    }
   ],
   "source": [
    "\n",
    "print(\"Best Score:\" + str(knn_cv.best_score_))\n",
    "print(\"Best Parameters: \" + str(knn_cv.best_params_))"
   ]
  },
  {
   "cell_type": "code",
   "execution_count": 34,
   "id": "ceee145c",
   "metadata": {},
   "outputs": [],
   "source": [
    "test_scores = []\n",
    "train_scores = []\n",
    "\n",
    "for i in range(1,15):\n",
    "\n",
    "    knn = KNeighborsClassifier(i)\n",
    "    knn.fit(X_train,y_train)\n",
    "    \n",
    "    train_scores.append(knn.score(X_train,y_train))\n",
    "    test_scores.append(knn.score(X_test,y_test))"
   ]
  },
  {
   "cell_type": "code",
   "execution_count": 35,
   "id": "19132cd3",
   "metadata": {},
   "outputs": [
    {
     "name": "stdout",
     "output_type": "stream",
     "text": [
      "[1.0, 0.9453551912568307, 0.9508196721311475, 0.912568306010929, 0.8688524590163934, 0.825136612021858, 0.8633879781420765, 0.8633879781420765, 0.8469945355191257, 0.8469945355191257, 0.8306010928961749, 0.8360655737704918, 0.8306010928961749, 0.8579234972677595]\n",
      "[0.8586956521739131, 0.8260869565217391, 0.8478260869565217, 0.8586956521739131, 0.8586956521739131, 0.8369565217391305, 0.8369565217391305, 0.8478260869565217, 0.8043478260869565, 0.8043478260869565, 0.8260869565217391, 0.8260869565217391, 0.8152173913043478, 0.8043478260869565]\n"
     ]
    }
   ],
   "source": [
    "print(train_scores)\n",
    "print(test_scores)"
   ]
  },
  {
   "cell_type": "markdown",
   "id": "627848ec",
   "metadata": {},
   "source": [
    "max_train_score = max(train_scores)\n",
    "train_scores_ind = [i for i, v in enumerate(train_scores) if v == max_train_score]\n",
    "print('Max train score {} % and k = {}'.format(max_train_score*100,list(map(lambda x: x+1, train_scores_ind))))"
   ]
  },
  {
   "cell_type": "code",
   "execution_count": 43,
   "id": "e384dbb9",
   "metadata": {},
   "outputs": [
    {
     "name": "stdout",
     "output_type": "stream",
     "text": [
      "Max test score 85.86956521739131 % and k = [1, 4, 5]\n"
     ]
    }
   ],
   "source": [
    "## score that comes from testing on the datapoints that were split in the beginning to be used for testing solely\n",
    "max_test_score = max(test_scores)\n",
    "test_scores_ind = [i for i, v in enumerate(test_scores) if v == max_test_score]\n",
    "print('Max test score {} % and k = {}'.format(max_test_score*100,list(map(lambda x: x+1, test_scores_ind))))"
   ]
  },
  {
   "cell_type": "code",
   "execution_count": 38,
   "id": "e564053d",
   "metadata": {},
   "outputs": [
    {
     "data": {
      "text/plain": [
       "array([0, 1, 0, 0, 1, 1, 1, 0, 0, 1, 1, 0, 1, 0, 0, 0, 1, 1, 0, 0, 0, 0,\n",
       "       1, 0, 0, 1, 0, 0, 1, 0, 1, 0, 0, 1, 0, 1, 0, 0, 1, 0, 1, 0, 0, 1,\n",
       "       0, 0, 0, 0, 0, 0, 1, 0, 1, 0, 0, 1, 0, 0, 0, 1, 1, 0, 0, 1, 0, 0,\n",
       "       1, 0, 1, 1, 0, 0, 0, 0, 1, 1, 1, 1, 1, 0, 1, 0, 1, 1, 0, 0, 1, 1,\n",
       "       0, 1, 1, 1], dtype=int64)"
      ]
     },
     "execution_count": 38,
     "metadata": {},
     "output_type": "execute_result"
    }
   ],
   "source": [
    "y_pred = knn.predict(X_test)\n",
    "y_pred"
   ]
  },
  {
   "cell_type": "code",
   "execution_count": 44,
   "id": "7f369116",
   "metadata": {},
   "outputs": [
    {
     "data": {
      "text/html": [
       "<div>\n",
       "<style scoped>\n",
       "    .dataframe tbody tr th:only-of-type {\n",
       "        vertical-align: middle;\n",
       "    }\n",
       "\n",
       "    .dataframe tbody tr th {\n",
       "        vertical-align: top;\n",
       "    }\n",
       "\n",
       "    .dataframe thead th {\n",
       "        text-align: right;\n",
       "    }\n",
       "</style>\n",
       "<table border=\"1\" class=\"dataframe\">\n",
       "  <thead>\n",
       "    <tr style=\"text-align: right;\">\n",
       "      <th>Predicted</th>\n",
       "      <th>0</th>\n",
       "      <th>1</th>\n",
       "      <th>All</th>\n",
       "    </tr>\n",
       "    <tr>\n",
       "      <th>True</th>\n",
       "      <th></th>\n",
       "      <th></th>\n",
       "      <th></th>\n",
       "    </tr>\n",
       "  </thead>\n",
       "  <tbody>\n",
       "    <tr>\n",
       "      <th>0</th>\n",
       "      <td>40</td>\n",
       "      <td>6</td>\n",
       "      <td>46</td>\n",
       "    </tr>\n",
       "    <tr>\n",
       "      <th>1</th>\n",
       "      <td>12</td>\n",
       "      <td>34</td>\n",
       "      <td>46</td>\n",
       "    </tr>\n",
       "    <tr>\n",
       "      <th>All</th>\n",
       "      <td>52</td>\n",
       "      <td>40</td>\n",
       "      <td>92</td>\n",
       "    </tr>\n",
       "  </tbody>\n",
       "</table>\n",
       "</div>"
      ],
      "text/plain": [
       "Predicted   0   1  All\n",
       "True                  \n",
       "0          40   6   46\n",
       "1          12  34   46\n",
       "All        52  40   92"
      ]
     },
     "execution_count": 44,
     "metadata": {},
     "output_type": "execute_result"
    }
   ],
   "source": [
    "#import confusion_matrix\n",
    "from sklearn.metrics import confusion_matrix\n",
    "confusion_matrix(y_test,y_pred)\n",
    "pd.crosstab(y_test, y_pred, rownames=['True'], colnames=['Predicted'], margins=True)"
   ]
  },
  {
   "cell_type": "code",
   "execution_count": 45,
   "id": "e92ecd7b",
   "metadata": {},
   "outputs": [
    {
     "data": {
      "text/plain": [
       "Text(0.5, 15.0, 'Predicted label')"
      ]
     },
     "execution_count": 45,
     "metadata": {},
     "output_type": "execute_result"
    },
    {
     "data": {
      "image/png": "[encoded data removed]",
      "text/plain": [
       "<Figure size 432x288 with 2 Axes>"
      ]
     },
     "metadata": {
      "needs_background": "light"
     },
     "output_type": "display_data"
    }
   ],
   "source": [
    "# Creating a Heatmap for the confusion matrix. \n",
    "y_pred = knn.predict(X_test)\n",
    "from sklearn import metrics\n",
    "cnf_matrix = metrics.confusion_matrix(y_test, y_pred)\n",
    "p = sns.heatmap(pd.DataFrame(cnf_matrix), annot=True, cmap=\"YlGnBu\" ,fmt='g')\n",
    "plt.title('Confusion matrix', y=1.1)\n",
    "plt.ylabel('Actual label')\n",
    "plt.xlabel('Predicted label')"
   ]
  },
  {
   "cell_type": "code",
   "execution_count": 46,
   "id": "d9ef5576",
   "metadata": {},
   "outputs": [
    {
     "name": "stdout",
     "output_type": "stream",
     "text": [
      "              precision    recall  f1-score   support\n",
      "\n",
      "           0       0.77      0.87      0.82        46\n",
      "           1       0.85      0.74      0.79        46\n",
      "\n",
      "    accuracy                           0.80        92\n",
      "   macro avg       0.81      0.80      0.80        92\n",
      "weighted avg       0.81      0.80      0.80        92\n",
      "\n"
     ]
    }
   ],
   "source": [
    "from sklearn.metrics import classification_report\n",
    "print(classification_report(y_test,y_pred))"
   ]
  },
  {
   "cell_type": "code",
   "execution_count": null,
   "id": "b3b1aef4",
   "metadata": {},
   "outputs": [],
   "source": []
  }
 ],
 "metadata": {
  "kernelspec": {
   "display_name": "Python 3 (ipykernel)",
   "language": "python",
   "name": "python3"
  },
  "language_info": {
   "codemirror_mode": {
    "name": "ipython",
    "version": 3
   },
   "file_extension": ".py",
   "mimetype": "text/x-python",
   "name": "python",
   "nbconvert_exporter": "python",
   "pygments_lexer": "ipython3",
   "version": "3.9.7"
  }
 },
 "nbformat": 4,
 "nbformat_minor": 5
}
